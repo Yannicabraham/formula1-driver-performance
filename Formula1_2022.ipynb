{
 "cells": [
  {
   "cell_type": "markdown",
   "id": "aeafd65e",
   "metadata": {},
   "source": [
    "# 🏎️💨 Formula 1 Data Analysis - 70 Years of Racing History\n",
    "\n",
    "Welcome back to this EDA project based on 70 years of Formula 1 racing. The dataset includes driver statistics, team information, race outcomes, and country data.\n",
    "\n",
    "The objective is to uncover patterns in driver success, podium finishes, point accumulation, and country-based performance using data visualization and descriptive statistics.\n",
    "\n",
    "## 🔎 Questions Explored Include:\n",
    "\n",
    "- Who are the top 5 podium drivers of all time?\n",
    "- How are points distributed across drivers in the 2022 season?\n",
    "- What is the average age of Formula 1 drivers?\n",
    "- Which countries have produced the most successful drivers?\n",
    "- What is the correlation between number of GP entries and total points?\n",
    "- Are there patterns in highest finishes and championship wins?\n",
    "\n",
    "**💡 As someone not too familiar with Formula 1, this fact really caught my interest: Not a single driver who started the race at position 5 or lower, has secured a podium finish at the end of the race. This stresses the importance of a strong qualifier prior to the actual race.**\n",
    "\n",
    "> 💬 **Note:** This project was developed as part of my Data Analysis certification training at **Experience Design Institut (XDi)**. This dataset was used for practicing real-world data cleaning, analysis, and storytelling skills. "
   ]
  },
  {
   "cell_type": "markdown",
   "id": "5c54bfcd",
   "metadata": {},
   "source": [
    "### Preparation"
   ]
  },
  {
   "cell_type": "code",
   "execution_count": 4,
   "id": "ad6c3ee6",
   "metadata": {},
   "outputs": [],
   "source": [
    "# Import necessary libraries\n",
    "import pandas as pd\n",
    "import matplotlib.pyplot as plt\n",
    "import seaborn as sns"
   ]
  },
  {
   "cell_type": "code",
   "execution_count": 6,
   "id": "fc6fb3db",
   "metadata": {},
   "outputs": [],
   "source": [
    "# Load the Formula 1 dataset for the 2022 season\n",
    "url = 'https://github.com/toUpperCase78/formula1-datasets/raw/master/Formula1_2022season_drivers.csv'\n",
    "f1_df = pd.read_csv(url)"
   ]
  },
  {
   "cell_type": "code",
   "execution_count": 8,
   "id": "19705bb7",
   "metadata": {},
   "outputs": [],
   "source": [
    "# Select relevant columns\n",
    "selected_columns = ['Driver', 'Abbreviation', 'No', 'Team', 'Country', 'Podiums', 'Points', 'Grands Prix Entered',\n",
    "                     'World Championships', 'Highest Race Finish', 'Highest Grid Position', 'Date of Birth', 'Place of Birth']\n",
    "f1_df = f1_df[selected_columns]"
   ]
  },
  {
   "cell_type": "markdown",
   "id": "5edb681b",
   "metadata": {},
   "source": [
    "### 📊 EDA"
   ]
  },
  {
   "cell_type": "markdown",
   "id": "7c00fa3d",
   "metadata": {},
   "source": [
    "Q1: Who were the top 5 podium drivers during the 2022 season?"
   ]
  },
  {
   "cell_type": "code",
   "execution_count": 15,
   "id": "4896a43d",
   "metadata": {},
   "outputs": [
    {
     "data": {
      "text/html": [
       "<div>\n",
       "<style scoped>\n",
       "    .dataframe tbody tr th:only-of-type {\n",
       "        vertical-align: middle;\n",
       "    }\n",
       "\n",
       "    .dataframe tbody tr th {\n",
       "        vertical-align: top;\n",
       "    }\n",
       "\n",
       "    .dataframe thead th {\n",
       "        text-align: right;\n",
       "    }\n",
       "</style>\n",
       "<table border=\"1\" class=\"dataframe\">\n",
       "  <thead>\n",
       "    <tr style=\"text-align: right;\">\n",
       "      <th></th>\n",
       "      <th>Driver</th>\n",
       "      <th>Abbreviation</th>\n",
       "      <th>No</th>\n",
       "      <th>Team</th>\n",
       "      <th>Country</th>\n",
       "      <th>Podiums</th>\n",
       "      <th>Points</th>\n",
       "      <th>Grands Prix Entered</th>\n",
       "      <th>World Championships</th>\n",
       "      <th>Highest Race Finish</th>\n",
       "      <th>Highest Grid Position</th>\n",
       "      <th>Date of Birth</th>\n",
       "      <th>Place of Birth</th>\n",
       "    </tr>\n",
       "  </thead>\n",
       "  <tbody>\n",
       "    <tr>\n",
       "      <th>5</th>\n",
       "      <td>Lewis Hamilton</td>\n",
       "      <td>HAM</td>\n",
       "      <td>44</td>\n",
       "      <td>Mercedes</td>\n",
       "      <td>United Kingdom</td>\n",
       "      <td>191</td>\n",
       "      <td>4405.5</td>\n",
       "      <td>310</td>\n",
       "      <td>7</td>\n",
       "      <td>1(x103)</td>\n",
       "      <td>1</td>\n",
       "      <td>07/01/1985</td>\n",
       "      <td>Stevenage, England</td>\n",
       "    </tr>\n",
       "    <tr>\n",
       "      <th>11</th>\n",
       "      <td>Sebastian Vettel</td>\n",
       "      <td>VET</td>\n",
       "      <td>5</td>\n",
       "      <td>Aston Martin</td>\n",
       "      <td>Germany</td>\n",
       "      <td>122</td>\n",
       "      <td>3098.0</td>\n",
       "      <td>300</td>\n",
       "      <td>4</td>\n",
       "      <td>1(x53)</td>\n",
       "      <td>1</td>\n",
       "      <td>03/07/1987</td>\n",
       "      <td>Heppenheim, Germany</td>\n",
       "    </tr>\n",
       "    <tr>\n",
       "      <th>8</th>\n",
       "      <td>Fernando Alonso</td>\n",
       "      <td>ALO</td>\n",
       "      <td>14</td>\n",
       "      <td>Alpine</td>\n",
       "      <td>Spain</td>\n",
       "      <td>98</td>\n",
       "      <td>2061.0</td>\n",
       "      <td>358</td>\n",
       "      <td>2</td>\n",
       "      <td>1(x32)</td>\n",
       "      <td>1</td>\n",
       "      <td>29/07/1981</td>\n",
       "      <td>Oviedo, Spain</td>\n",
       "    </tr>\n",
       "    <tr>\n",
       "      <th>0</th>\n",
       "      <td>Max Verstappen</td>\n",
       "      <td>VER</td>\n",
       "      <td>1</td>\n",
       "      <td>Red Bull Racing</td>\n",
       "      <td>Netherlands</td>\n",
       "      <td>77</td>\n",
       "      <td>2011.5</td>\n",
       "      <td>163</td>\n",
       "      <td>2</td>\n",
       "      <td>1(x35)</td>\n",
       "      <td>1</td>\n",
       "      <td>30/09/1997</td>\n",
       "      <td>Hasselt,Belgium</td>\n",
       "    </tr>\n",
       "    <tr>\n",
       "      <th>9</th>\n",
       "      <td>Valtteri Bottas</td>\n",
       "      <td>BOT</td>\n",
       "      <td>77</td>\n",
       "      <td>Alfa Romeo</td>\n",
       "      <td>Finland</td>\n",
       "      <td>67</td>\n",
       "      <td>1787.0</td>\n",
       "      <td>200</td>\n",
       "      <td>0</td>\n",
       "      <td>1(x10)</td>\n",
       "      <td>1</td>\n",
       "      <td>28/08/1989</td>\n",
       "      <td>Nastola, Finland</td>\n",
       "    </tr>\n",
       "  </tbody>\n",
       "</table>\n",
       "</div>"
      ],
      "text/plain": [
       "              Driver Abbreviation  No             Team         Country  \\\n",
       "5     Lewis Hamilton          HAM  44         Mercedes  United Kingdom   \n",
       "11  Sebastian Vettel          VET   5     Aston Martin         Germany   \n",
       "8    Fernando Alonso          ALO  14           Alpine           Spain   \n",
       "0     Max Verstappen          VER   1  Red Bull Racing     Netherlands   \n",
       "9    Valtteri Bottas          BOT  77       Alfa Romeo         Finland   \n",
       "\n",
       "    Podiums  Points  Grands Prix Entered  World Championships  \\\n",
       "5       191  4405.5                  310                    7   \n",
       "11      122  3098.0                  300                    4   \n",
       "8        98  2061.0                  358                    2   \n",
       "0        77  2011.5                  163                    2   \n",
       "9        67  1787.0                  200                    0   \n",
       "\n",
       "   Highest Race Finish  Highest Grid Position Date of Birth  \\\n",
       "5              1(x103)                      1    07/01/1985   \n",
       "11              1(x53)                      1    03/07/1987   \n",
       "8               1(x32)                      1    29/07/1981   \n",
       "0               1(x35)                      1    30/09/1997   \n",
       "9               1(x10)                      1    28/08/1989   \n",
       "\n",
       "         Place of Birth  \n",
       "5    Stevenage, England  \n",
       "11  Heppenheim, Germany  \n",
       "8         Oviedo, Spain  \n",
       "0       Hasselt,Belgium  \n",
       "9      Nastola, Finland  "
      ]
     },
     "execution_count": 15,
     "metadata": {},
     "output_type": "execute_result"
    }
   ],
   "source": [
    "#Top 5 podium driver\n",
    "top_5_podium_driver = f1_df.sort_values(by='Podiums', ascending=False).head(5)\n",
    "top_5_podium_driver"
   ]
  },
  {
   "cell_type": "markdown",
   "id": "53708a80",
   "metadata": {},
   "source": [
    "Q2: How do points distribute during the 2022 season?"
   ]
  },
  {
   "cell_type": "code",
   "execution_count": 15,
   "id": "3a564ea7-4e3c-4d4f-8e66-7040282ca15e",
   "metadata": {},
   "outputs": [
    {
     "data": {
      "image/png": "[encoded data removed]",
      "text/plain": [
       "<Figure size 1200x600 with 1 Axes>"
      ]
     },
     "metadata": {},
     "output_type": "display_data"
    }
   ],
   "source": [
    "plt.figure(figsize=(12, 6))\n",
    "sns.histplot(f1_df['Points'], bins=20, kde=True)\n",
    "plt.title('Distribution of Points Scored by Drivers in the 2022 Season')\n",
    "plt.xlabel('Points')\n",
    "plt.ylabel('Frequency')\n",
    "plt.show()"
   ]
  },
  {
   "cell_type": "markdown",
   "id": "b9abf3ed-518f-4aea-a0f2-b16d16ea002d",
   "metadata": {},
   "source": [
    "The above histplot shows that only a very few drivers accumulate points above 1000.\n",
    "Actually, only one driver has either >3000 or >4000 points.\n",
    "\n",
    "In a next step, let's see who those drivers are to get a deeper feeling for the 2022 performance data."
   ]
  },
  {
   "cell_type": "code",
   "execution_count": 22,
   "id": "748267b4",
   "metadata": {},
   "outputs": [
    {
     "data": {
      "text/html": [
       "<div>\n",
       "<style scoped>\n",
       "    .dataframe tbody tr th:only-of-type {\n",
       "        vertical-align: middle;\n",
       "    }\n",
       "\n",
       "    .dataframe tbody tr th {\n",
       "        vertical-align: top;\n",
       "    }\n",
       "\n",
       "    .dataframe thead th {\n",
       "        text-align: right;\n",
       "    }\n",
       "</style>\n",
       "<table border=\"1\" class=\"dataframe\">\n",
       "  <thead>\n",
       "    <tr style=\"text-align: right;\">\n",
       "      <th></th>\n",
       "      <th>Driver</th>\n",
       "      <th>Points</th>\n",
       "    </tr>\n",
       "  </thead>\n",
       "  <tbody>\n",
       "    <tr>\n",
       "      <th>5</th>\n",
       "      <td>Lewis Hamilton</td>\n",
       "      <td>4405.5</td>\n",
       "    </tr>\n",
       "    <tr>\n",
       "      <th>11</th>\n",
       "      <td>Sebastian Vettel</td>\n",
       "      <td>3098.0</td>\n",
       "    </tr>\n",
       "    <tr>\n",
       "      <th>8</th>\n",
       "      <td>Fernando Alonso</td>\n",
       "      <td>2061.0</td>\n",
       "    </tr>\n",
       "    <tr>\n",
       "      <th>0</th>\n",
       "      <td>Max Verstappen</td>\n",
       "      <td>2011.5</td>\n",
       "    </tr>\n",
       "    <tr>\n",
       "      <th>9</th>\n",
       "      <td>Valtteri Bottas</td>\n",
       "      <td>1787.0</td>\n",
       "    </tr>\n",
       "    <tr>\n",
       "      <th>10</th>\n",
       "      <td>Daniel Ricciardo</td>\n",
       "      <td>1311.0</td>\n",
       "    </tr>\n",
       "    <tr>\n",
       "      <th>2</th>\n",
       "      <td>Sergio Perez</td>\n",
       "      <td>1201.0</td>\n",
       "    </tr>\n",
       "    <tr>\n",
       "      <th>1</th>\n",
       "      <td>Charles Leclerc</td>\n",
       "      <td>868.0</td>\n",
       "    </tr>\n",
       "    <tr>\n",
       "      <th>4</th>\n",
       "      <td>Carlos Sainz</td>\n",
       "      <td>782.5</td>\n",
       "    </tr>\n",
       "    <tr>\n",
       "      <th>21</th>\n",
       "      <td>Nico Hulkenberg</td>\n",
       "      <td>521.0</td>\n",
       "    </tr>\n",
       "    <tr>\n",
       "      <th>6</th>\n",
       "      <td>Lando Norris</td>\n",
       "      <td>428.0</td>\n",
       "    </tr>\n",
       "    <tr>\n",
       "      <th>7</th>\n",
       "      <td>Esteban Ocon</td>\n",
       "      <td>364.0</td>\n",
       "    </tr>\n",
       "    <tr>\n",
       "      <th>13</th>\n",
       "      <td>Pierre Gasly</td>\n",
       "      <td>332.0</td>\n",
       "    </tr>\n",
       "    <tr>\n",
       "      <th>3</th>\n",
       "      <td>George Russell</td>\n",
       "      <td>294.0</td>\n",
       "    </tr>\n",
       "    <tr>\n",
       "      <th>18</th>\n",
       "      <td>Alexander Albon</td>\n",
       "      <td>201.0</td>\n",
       "    </tr>\n",
       "    <tr>\n",
       "      <th>14</th>\n",
       "      <td>Lance Stroll</td>\n",
       "      <td>194.0</td>\n",
       "    </tr>\n",
       "    <tr>\n",
       "      <th>12</th>\n",
       "      <td>Kevin Magnussen</td>\n",
       "      <td>183.0</td>\n",
       "    </tr>\n",
       "    <tr>\n",
       "      <th>16</th>\n",
       "      <td>Yuki Tsunoda</td>\n",
       "      <td>44.0</td>\n",
       "    </tr>\n",
       "    <tr>\n",
       "      <th>15</th>\n",
       "      <td>Mick Schumacher</td>\n",
       "      <td>12.0</td>\n",
       "    </tr>\n",
       "    <tr>\n",
       "      <th>19</th>\n",
       "      <td>Nicholas Latifi</td>\n",
       "      <td>9.0</td>\n",
       "    </tr>\n",
       "    <tr>\n",
       "      <th>17</th>\n",
       "      <td>Guanyu Zhou</td>\n",
       "      <td>6.0</td>\n",
       "    </tr>\n",
       "    <tr>\n",
       "      <th>20</th>\n",
       "      <td>Nyck De Vries</td>\n",
       "      <td>2.0</td>\n",
       "    </tr>\n",
       "  </tbody>\n",
       "</table>\n",
       "</div>"
      ],
      "text/plain": [
       "              Driver  Points\n",
       "5     Lewis Hamilton  4405.5\n",
       "11  Sebastian Vettel  3098.0\n",
       "8    Fernando Alonso  2061.0\n",
       "0     Max Verstappen  2011.5\n",
       "9    Valtteri Bottas  1787.0\n",
       "10  Daniel Ricciardo  1311.0\n",
       "2       Sergio Perez  1201.0\n",
       "1    Charles Leclerc   868.0\n",
       "4       Carlos Sainz   782.5\n",
       "21   Nico Hulkenberg   521.0\n",
       "6       Lando Norris   428.0\n",
       "7       Esteban Ocon   364.0\n",
       "13      Pierre Gasly   332.0\n",
       "3     George Russell   294.0\n",
       "18   Alexander Albon   201.0\n",
       "14      Lance Stroll   194.0\n",
       "12   Kevin Magnussen   183.0\n",
       "16      Yuki Tsunoda    44.0\n",
       "15   Mick Schumacher    12.0\n",
       "19   Nicholas Latifi     9.0\n",
       "17       Guanyu Zhou     6.0\n",
       "20     Nyck De Vries     2.0"
      ]
     },
     "execution_count": 22,
     "metadata": {},
     "output_type": "execute_result"
    }
   ],
   "source": [
    "#Distribution of points in the 2022 season\n",
    "points_distribution = f1_df[['Driver','Points']].sort_values(by='Points', ascending=False)\n",
    "points_distribution"
   ]
  },
  {
   "cell_type": "code",
   "execution_count": 48,
   "id": "5cb75664-9b2b-40ac-92ec-3c0d0a89653c",
   "metadata": {},
   "outputs": [
    {
     "data": {
      "text/plain": [
       "<Figure size 1500x500 with 0 Axes>"
      ]
     },
     "metadata": {},
     "output_type": "display_data"
    },
    {
     "data": {
      "image/png": "[encoded data removed]",
      "text/plain": [
       "<Figure size 640x480 with 1 Axes>"
      ]
     },
     "metadata": {},
     "output_type": "display_data"
    }
   ],
   "source": [
    "#Visualizing\n",
    "plt.figure(figsize=(15,5))\n",
    "points_distribution.plot(kind='bar', x='Driver', y='Points', color='firebrick', alpha=0.8)\n",
    "plt.grid(True, alpha=0.3)\n",
    "plt.title('Distribution of Points in the 2022 Season')\n",
    "plt.xticks(rotation=45, ha='right', fontsize=8)\n",
    "plt.ylabel('Total Points')\n",
    "plt.xlabel('Driver')\n",
    "plt.show()"
   ]
  },
  {
   "cell_type": "markdown",
   "id": "b83ceb78-6db9-4fc9-9afc-40f468d83501",
   "metadata": {},
   "source": [
    "We now see who those selected, top-tier drivers are. \n",
    "Lewis Hamilton was the only 2022 driver to receive more than 4000 points. \n",
    "Sebastian Vettel, another Formula 1 legend, accumulated a little over 3000 points. \n",
    "\n",
    "The majority of 2022's drivers had only below 1000 points."
   ]
  },
  {
   "cell_type": "markdown",
   "id": "17894e87",
   "metadata": {},
   "source": [
    "Q3: What was 2022's average driver age?"
   ]
  },
  {
   "cell_type": "code",
   "execution_count": 280,
   "id": "01c757df",
   "metadata": {},
   "outputs": [
    {
     "data": {
      "text/html": [
       "<div>\n",
       "<style scoped>\n",
       "    .dataframe tbody tr th:only-of-type {\n",
       "        vertical-align: middle;\n",
       "    }\n",
       "\n",
       "    .dataframe tbody tr th {\n",
       "        vertical-align: top;\n",
       "    }\n",
       "\n",
       "    .dataframe thead th {\n",
       "        text-align: right;\n",
       "    }\n",
       "</style>\n",
       "<table border=\"1\" class=\"dataframe\">\n",
       "  <thead>\n",
       "    <tr style=\"text-align: right;\">\n",
       "      <th></th>\n",
       "      <th>Driver</th>\n",
       "      <th>Age_2022</th>\n",
       "    </tr>\n",
       "  </thead>\n",
       "  <tbody>\n",
       "    <tr>\n",
       "      <th>0</th>\n",
       "      <td>Max Verstappen</td>\n",
       "      <td>25</td>\n",
       "    </tr>\n",
       "    <tr>\n",
       "      <th>1</th>\n",
       "      <td>Charles Leclerc</td>\n",
       "      <td>25</td>\n",
       "    </tr>\n",
       "    <tr>\n",
       "      <th>2</th>\n",
       "      <td>Sergio Perez</td>\n",
       "      <td>32</td>\n",
       "    </tr>\n",
       "    <tr>\n",
       "      <th>3</th>\n",
       "      <td>George Russell</td>\n",
       "      <td>24</td>\n",
       "    </tr>\n",
       "    <tr>\n",
       "      <th>4</th>\n",
       "      <td>Carlos Sainz</td>\n",
       "      <td>28</td>\n",
       "    </tr>\n",
       "    <tr>\n",
       "      <th>5</th>\n",
       "      <td>Lewis Hamilton</td>\n",
       "      <td>37</td>\n",
       "    </tr>\n",
       "    <tr>\n",
       "      <th>6</th>\n",
       "      <td>Lando Norris</td>\n",
       "      <td>23</td>\n",
       "    </tr>\n",
       "    <tr>\n",
       "      <th>7</th>\n",
       "      <td>Esteban Ocon</td>\n",
       "      <td>26</td>\n",
       "    </tr>\n",
       "    <tr>\n",
       "      <th>8</th>\n",
       "      <td>Fernando Alonso</td>\n",
       "      <td>41</td>\n",
       "    </tr>\n",
       "    <tr>\n",
       "      <th>9</th>\n",
       "      <td>Valtteri Bottas</td>\n",
       "      <td>33</td>\n",
       "    </tr>\n",
       "    <tr>\n",
       "      <th>10</th>\n",
       "      <td>Daniel Ricciardo</td>\n",
       "      <td>33</td>\n",
       "    </tr>\n",
       "    <tr>\n",
       "      <th>11</th>\n",
       "      <td>Sebastian Vettel</td>\n",
       "      <td>35</td>\n",
       "    </tr>\n",
       "    <tr>\n",
       "      <th>12</th>\n",
       "      <td>Kevin Magnussen</td>\n",
       "      <td>30</td>\n",
       "    </tr>\n",
       "    <tr>\n",
       "      <th>13</th>\n",
       "      <td>Pierre Gasly</td>\n",
       "      <td>26</td>\n",
       "    </tr>\n",
       "    <tr>\n",
       "      <th>14</th>\n",
       "      <td>Lance Stroll</td>\n",
       "      <td>24</td>\n",
       "    </tr>\n",
       "    <tr>\n",
       "      <th>15</th>\n",
       "      <td>Mick Schumacher</td>\n",
       "      <td>23</td>\n",
       "    </tr>\n",
       "    <tr>\n",
       "      <th>16</th>\n",
       "      <td>Yuki Tsunoda</td>\n",
       "      <td>22</td>\n",
       "    </tr>\n",
       "    <tr>\n",
       "      <th>17</th>\n",
       "      <td>Guanyu Zhou</td>\n",
       "      <td>23</td>\n",
       "    </tr>\n",
       "    <tr>\n",
       "      <th>18</th>\n",
       "      <td>Alexander Albon</td>\n",
       "      <td>26</td>\n",
       "    </tr>\n",
       "    <tr>\n",
       "      <th>19</th>\n",
       "      <td>Nicholas Latifi</td>\n",
       "      <td>27</td>\n",
       "    </tr>\n",
       "    <tr>\n",
       "      <th>20</th>\n",
       "      <td>Nyck De Vries</td>\n",
       "      <td>27</td>\n",
       "    </tr>\n",
       "    <tr>\n",
       "      <th>21</th>\n",
       "      <td>Nico Hulkenberg</td>\n",
       "      <td>35</td>\n",
       "    </tr>\n",
       "  </tbody>\n",
       "</table>\n",
       "</div>"
      ],
      "text/plain": [
       "              Driver  Age_2022\n",
       "0     Max Verstappen        25\n",
       "1    Charles Leclerc        25\n",
       "2       Sergio Perez        32\n",
       "3     George Russell        24\n",
       "4       Carlos Sainz        28\n",
       "5     Lewis Hamilton        37\n",
       "6       Lando Norris        23\n",
       "7       Esteban Ocon        26\n",
       "8    Fernando Alonso        41\n",
       "9    Valtteri Bottas        33\n",
       "10  Daniel Ricciardo        33\n",
       "11  Sebastian Vettel        35\n",
       "12   Kevin Magnussen        30\n",
       "13      Pierre Gasly        26\n",
       "14      Lance Stroll        24\n",
       "15   Mick Schumacher        23\n",
       "16      Yuki Tsunoda        22\n",
       "17       Guanyu Zhou        23\n",
       "18   Alexander Albon        26\n",
       "19   Nicholas Latifi        27\n",
       "20     Nyck De Vries        27\n",
       "21   Nico Hulkenberg        35"
      ]
     },
     "execution_count": 280,
     "metadata": {},
     "output_type": "execute_result"
    }
   ],
   "source": [
    "#Average driver age in the 2022 season\n",
    "#Date of Birth column to datetime \n",
    "f1_df['Date of Birth'] = pd.to_datetime(f1_df['Date of Birth'], dayfirst=True, errors='coerce')\n",
    "\n",
    "#Extract birth day\n",
    "f1_df['Birth Year'] = f1_df['Date of Birth'].dt.year\n",
    "f1_df['Age_2022'] = 2022 - f1_df['Birth Year']\n",
    "f1_df[['Driver','Age_2022']]"
   ]
  },
  {
   "cell_type": "code",
   "execution_count": 70,
   "id": "b717969a-f005-4d3a-99eb-49ba6c6181db",
   "metadata": {},
   "outputs": [
    {
     "name": "stdout",
     "output_type": "stream",
     "text": [
      "The average driver age in the 2022 season was 28.41\n"
     ]
    }
   ],
   "source": [
    "#Avg age\n",
    "avg_age = f1_df.Age_2022.mean()\n",
    "print(f'The average driver age in the 2022 season was {avg_age:.2f}')"
   ]
  },
  {
   "cell_type": "markdown",
   "id": "5487d525",
   "metadata": {},
   "source": [
    "Q4: Which countries were represented by the drivers during the 2022 season?"
   ]
  },
  {
   "cell_type": "code",
   "execution_count": 119,
   "id": "763a0cf9-5505-40d2-bf94-4985571d03f5",
   "metadata": {},
   "outputs": [
    {
     "data": {
      "text/html": [
       "<div>\n",
       "<style scoped>\n",
       "    .dataframe tbody tr th:only-of-type {\n",
       "        vertical-align: middle;\n",
       "    }\n",
       "\n",
       "    .dataframe tbody tr th {\n",
       "        vertical-align: top;\n",
       "    }\n",
       "\n",
       "    .dataframe thead th {\n",
       "        text-align: right;\n",
       "    }\n",
       "</style>\n",
       "<table border=\"1\" class=\"dataframe\">\n",
       "  <thead>\n",
       "    <tr style=\"text-align: right;\">\n",
       "      <th></th>\n",
       "      <th>Country</th>\n",
       "      <th>Driver</th>\n",
       "    </tr>\n",
       "  </thead>\n",
       "  <tbody>\n",
       "    <tr>\n",
       "      <th>6</th>\n",
       "      <td>Germany</td>\n",
       "      <td>3</td>\n",
       "    </tr>\n",
       "    <tr>\n",
       "      <th>13</th>\n",
       "      <td>United Kingdom</td>\n",
       "      <td>3</td>\n",
       "    </tr>\n",
       "    <tr>\n",
       "      <th>1</th>\n",
       "      <td>Canada</td>\n",
       "      <td>2</td>\n",
       "    </tr>\n",
       "    <tr>\n",
       "      <th>5</th>\n",
       "      <td>France</td>\n",
       "      <td>2</td>\n",
       "    </tr>\n",
       "    <tr>\n",
       "      <th>10</th>\n",
       "      <td>Netherlands</td>\n",
       "      <td>2</td>\n",
       "    </tr>\n",
       "    <tr>\n",
       "      <th>11</th>\n",
       "      <td>Spain</td>\n",
       "      <td>2</td>\n",
       "    </tr>\n",
       "    <tr>\n",
       "      <th>0</th>\n",
       "      <td>Australia</td>\n",
       "      <td>1</td>\n",
       "    </tr>\n",
       "    <tr>\n",
       "      <th>2</th>\n",
       "      <td>China</td>\n",
       "      <td>1</td>\n",
       "    </tr>\n",
       "    <tr>\n",
       "      <th>3</th>\n",
       "      <td>Denmark</td>\n",
       "      <td>1</td>\n",
       "    </tr>\n",
       "    <tr>\n",
       "      <th>4</th>\n",
       "      <td>Finland</td>\n",
       "      <td>1</td>\n",
       "    </tr>\n",
       "    <tr>\n",
       "      <th>7</th>\n",
       "      <td>Japan</td>\n",
       "      <td>1</td>\n",
       "    </tr>\n",
       "    <tr>\n",
       "      <th>8</th>\n",
       "      <td>Mexico</td>\n",
       "      <td>1</td>\n",
       "    </tr>\n",
       "    <tr>\n",
       "      <th>9</th>\n",
       "      <td>Monaco</td>\n",
       "      <td>1</td>\n",
       "    </tr>\n",
       "    <tr>\n",
       "      <th>12</th>\n",
       "      <td>Thailand</td>\n",
       "      <td>1</td>\n",
       "    </tr>\n",
       "  </tbody>\n",
       "</table>\n",
       "</div>"
      ],
      "text/plain": [
       "           Country  Driver\n",
       "6          Germany       3\n",
       "13  United Kingdom       3\n",
       "1           Canada       2\n",
       "5           France       2\n",
       "10     Netherlands       2\n",
       "11           Spain       2\n",
       "0        Australia       1\n",
       "2            China       1\n",
       "3          Denmark       1\n",
       "4          Finland       1\n",
       "7            Japan       1\n",
       "8           Mexico       1\n",
       "9           Monaco       1\n",
       "12        Thailand       1"
      ]
     },
     "execution_count": 119,
     "metadata": {},
     "output_type": "execute_result"
    }
   ],
   "source": [
    "driver_per_country = f1_df.groupby('Country')['Driver'].count().reset_index().sort_values(by='Driver', ascending=False)\n",
    "driver_per_country"
   ]
  },
  {
   "cell_type": "code",
   "execution_count": 131,
   "id": "d3ac9b87-3bcc-4dd6-b1bd-a0c86a6b2283",
   "metadata": {},
   "outputs": [
    {
     "data": {
      "image/png": "[encoded data removed]",
      "text/plain": [
       "<Figure size 640x480 with 1 Axes>"
      ]
     },
     "metadata": {},
     "output_type": "display_data"
    }
   ],
   "source": [
    "#Visualiziing\n",
    "driver_per_country.plot(kind='bar', x='Country', y='Driver', color='firebrick',alpha=0.8)\n",
    "plt.grid(True, alpha=0.3)\n",
    "plt.title('Driver Per Country')\n",
    "plt.xlabel('Country')\n",
    "plt.xticks(rotation=45, ha='right')\n",
    "plt.ylabel('Total Count Driver')\n",
    "plt.show()"
   ]
  },
  {
   "cell_type": "markdown",
   "id": "21bb8f89-b459-4b98-8c6f-024d798fb4e8",
   "metadata": {},
   "source": [
    "With Germany and the UK, only two countries were sending three drivers to the 2022 season. \n",
    "Four more countries had two drivers, while the remaining countries had max. 1 driver during the season.\n",
    "\n",
    "This has ultimate implications on the organization's marketing focus, ensuring that countries with the respected drivers were considered for marketing campaigns, TV screenings, promotion activities, etc. "
   ]
  },
  {
   "cell_type": "markdown",
   "id": "6f24bed4",
   "metadata": {},
   "source": [
    "Q5: What is the correlation between the variable 'GP entered' and 'Earned points'?"
   ]
  },
  {
   "cell_type": "code",
   "execution_count": 32,
   "id": "1083fa01-8db5-43d9-9f80-cf65f56c7673",
   "metadata": {},
   "outputs": [
    {
     "name": "stdout",
     "output_type": "stream",
     "text": [
      "Correlation between Grands Prix Entered and Points Scored: 0.83\n"
     ]
    }
   ],
   "source": [
    "correlation_gp_points = f1_df['Grands Prix Entered'].corr(f1_df['Points'])\n",
    "print(f'Correlation between Grands Prix Entered and Points Scored: {correlation_gp_points:.2f}')"
   ]
  },
  {
   "cell_type": "code",
   "execution_count": 138,
   "id": "567ebfc1",
   "metadata": {},
   "outputs": [
    {
     "data": {
      "text/html": [
       "<div>\n",
       "<style scoped>\n",
       "    .dataframe tbody tr th:only-of-type {\n",
       "        vertical-align: middle;\n",
       "    }\n",
       "\n",
       "    .dataframe tbody tr th {\n",
       "        vertical-align: top;\n",
       "    }\n",
       "\n",
       "    .dataframe thead th {\n",
       "        text-align: right;\n",
       "    }\n",
       "</style>\n",
       "<table border=\"1\" class=\"dataframe\">\n",
       "  <thead>\n",
       "    <tr style=\"text-align: right;\">\n",
       "      <th></th>\n",
       "      <th>Avg. Points</th>\n",
       "    </tr>\n",
       "    <tr>\n",
       "      <th>Grands Prix Entered</th>\n",
       "      <th></th>\n",
       "    </tr>\n",
       "  </thead>\n",
       "  <tbody>\n",
       "    <tr>\n",
       "      <th>310</th>\n",
       "      <td>4405.5</td>\n",
       "    </tr>\n",
       "    <tr>\n",
       "      <th>300</th>\n",
       "      <td>3098.0</td>\n",
       "    </tr>\n",
       "    <tr>\n",
       "      <th>358</th>\n",
       "      <td>2061.0</td>\n",
       "    </tr>\n",
       "    <tr>\n",
       "      <th>200</th>\n",
       "      <td>1787.0</td>\n",
       "    </tr>\n",
       "    <tr>\n",
       "      <th>163</th>\n",
       "      <td>1397.0</td>\n",
       "    </tr>\n",
       "    <tr>\n",
       "      <th>232</th>\n",
       "      <td>1311.0</td>\n",
       "    </tr>\n",
       "    <tr>\n",
       "      <th>236</th>\n",
       "      <td>1201.0</td>\n",
       "    </tr>\n",
       "    <tr>\n",
       "      <th>103</th>\n",
       "      <td>868.0</td>\n",
       "    </tr>\n",
       "    <tr>\n",
       "      <th>184</th>\n",
       "      <td>521.0</td>\n",
       "    </tr>\n",
       "    <tr>\n",
       "      <th>111</th>\n",
       "      <td>364.0</td>\n",
       "    </tr>\n",
       "    <tr>\n",
       "      <th>82</th>\n",
       "      <td>361.0</td>\n",
       "    </tr>\n",
       "    <tr>\n",
       "      <th>108</th>\n",
       "      <td>332.0</td>\n",
       "    </tr>\n",
       "    <tr>\n",
       "      <th>59</th>\n",
       "      <td>201.0</td>\n",
       "    </tr>\n",
       "    <tr>\n",
       "      <th>122</th>\n",
       "      <td>194.0</td>\n",
       "    </tr>\n",
       "    <tr>\n",
       "      <th>142</th>\n",
       "      <td>183.0</td>\n",
       "    </tr>\n",
       "    <tr>\n",
       "      <th>44</th>\n",
       "      <td>44.0</td>\n",
       "    </tr>\n",
       "    <tr>\n",
       "      <th>43</th>\n",
       "      <td>12.0</td>\n",
       "    </tr>\n",
       "    <tr>\n",
       "      <th>61</th>\n",
       "      <td>9.0</td>\n",
       "    </tr>\n",
       "    <tr>\n",
       "      <th>22</th>\n",
       "      <td>6.0</td>\n",
       "    </tr>\n",
       "    <tr>\n",
       "      <th>1</th>\n",
       "      <td>2.0</td>\n",
       "    </tr>\n",
       "  </tbody>\n",
       "</table>\n",
       "</div>"
      ],
      "text/plain": [
       "                     Avg. Points\n",
       "Grands Prix Entered             \n",
       "310                       4405.5\n",
       "300                       3098.0\n",
       "358                       2061.0\n",
       "200                       1787.0\n",
       "163                       1397.0\n",
       "232                       1311.0\n",
       "236                       1201.0\n",
       "103                        868.0\n",
       "184                        521.0\n",
       "111                        364.0\n",
       "82                         361.0\n",
       "108                        332.0\n",
       "59                         201.0\n",
       "122                        194.0\n",
       "142                        183.0\n",
       "44                          44.0\n",
       "43                          12.0\n",
       "61                           9.0\n",
       "22                           6.0\n",
       "1                            2.0"
      ]
     },
     "execution_count": 138,
     "metadata": {},
     "output_type": "execute_result"
    }
   ],
   "source": [
    "#Correlation between finished GPs and earned points\n",
    "f1_df.groupby(by='Grands Prix Entered').Points.agg('mean').sort_values(ascending=False).to_frame().rename(columns={'Points':'Avg. Points'})"
   ]
  },
  {
   "cell_type": "code",
   "execution_count": 146,
   "id": "fcc3fa7d-7c00-446b-80b6-1ac4db798705",
   "metadata": {},
   "outputs": [
    {
     "data": {
      "image/png": "[encoded data removed]",
      "text/plain": [
       "<Figure size 1500x500 with 1 Axes>"
      ]
     },
     "metadata": {},
     "output_type": "display_data"
    }
   ],
   "source": [
    "#Visualizing\n",
    "plt.figure(figsize=(15,5))\n",
    "sns.scatterplot(x='Grands Prix Entered', y='Points', data=f1_df, alpha=0.3)\n",
    "plt.title('Correlation between entered GPs and Points')\n",
    "plt.xlabel('Count of GPs Entered')\n",
    "plt.ylabel('Avg. Points')\n",
    "plt.grid(True, alpha=0.3)\n",
    "plt.show()"
   ]
  },
  {
   "cell_type": "markdown",
   "id": "2037ebea-f2a8-4aba-9186-e9c3a12b52be",
   "metadata": {},
   "source": [
    "Visualizing both variables with a scatterplot shows already a positive relation between both. \n",
    "Let's quantify with a correlation coefficient."
   ]
  },
  {
   "cell_type": "code",
   "execution_count": 38,
   "id": "96736246-c5a1-4bd6-bcd9-fdb2f2df7751",
   "metadata": {},
   "outputs": [
    {
     "data": {
      "text/plain": [
       "0.833158187608354"
      ]
     },
     "execution_count": 38,
     "metadata": {},
     "output_type": "execute_result"
    }
   ],
   "source": [
    "correlation_gp_points = f1_df['Grands Prix Entered'].corr(f1_df['Points'])\n",
    "correlation_gp_points "
   ]
  },
  {
   "cell_type": "markdown",
   "id": "5600379b-7cf6-43be-959b-db4f492ed5b5",
   "metadata": {},
   "source": [
    "The positive correlation between both variables might have direct implications on how teams are put together, as more experience ultimately lead to more points.\n",
    "On the other side, one needs to consider that the more GPs a driver has entered, the points he accumulates either way. A classic case of \"chicken-or-the-egg\", that could be considered for further analysis.  "
   ]
  },
  {
   "cell_type": "markdown",
   "id": "f2dfe48f",
   "metadata": {},
   "source": [
    "Q6: How many 2022 drivers have won a world championship?"
   ]
  },
  {
   "cell_type": "code",
   "execution_count": 154,
   "id": "5c9ec5f6",
   "metadata": {},
   "outputs": [
    {
     "data": {
      "text/html": [
       "<div>\n",
       "<style scoped>\n",
       "    .dataframe tbody tr th:only-of-type {\n",
       "        vertical-align: middle;\n",
       "    }\n",
       "\n",
       "    .dataframe tbody tr th {\n",
       "        vertical-align: top;\n",
       "    }\n",
       "\n",
       "    .dataframe thead th {\n",
       "        text-align: right;\n",
       "    }\n",
       "</style>\n",
       "<table border=\"1\" class=\"dataframe\">\n",
       "  <thead>\n",
       "    <tr style=\"text-align: right;\">\n",
       "      <th></th>\n",
       "      <th>Driver</th>\n",
       "    </tr>\n",
       "    <tr>\n",
       "      <th>World Championships</th>\n",
       "      <th></th>\n",
       "    </tr>\n",
       "  </thead>\n",
       "  <tbody>\n",
       "    <tr>\n",
       "      <th>0</th>\n",
       "      <td>18</td>\n",
       "    </tr>\n",
       "    <tr>\n",
       "      <th>2</th>\n",
       "      <td>2</td>\n",
       "    </tr>\n",
       "    <tr>\n",
       "      <th>4</th>\n",
       "      <td>1</td>\n",
       "    </tr>\n",
       "    <tr>\n",
       "      <th>7</th>\n",
       "      <td>1</td>\n",
       "    </tr>\n",
       "  </tbody>\n",
       "</table>\n",
       "</div>"
      ],
      "text/plain": [
       "                     Driver\n",
       "World Championships        \n",
       "0                        18\n",
       "2                         2\n",
       "4                         1\n",
       "7                         1"
      ]
     },
     "execution_count": 154,
     "metadata": {},
     "output_type": "execute_result"
    }
   ],
   "source": [
    "#Driver who won a 2022 championship\n",
    "championship_driver = f1_df.groupby('World Championships')['Driver'].count().to_frame()\n",
    "championship_driver"
   ]
  },
  {
   "cell_type": "code",
   "execution_count": 167,
   "id": "501b684b-1e53-452c-9454-0660eacdebe6",
   "metadata": {},
   "outputs": [
    {
     "name": "stdout",
     "output_type": "stream",
     "text": [
      "['Max Verstappen' 'Lewis Hamilton' 'Fernando Alonso' 'Sebastian Vettel']\n"
     ]
    }
   ],
   "source": [
    "count_winner = f1_df[f1_df['World Championships'] > 0]['Driver'].unique()\n",
    "print(count_winner)"
   ]
  },
  {
   "cell_type": "markdown",
   "id": "e4d25c4d-f798-472c-b9fb-2d85fd47fabd",
   "metadata": {},
   "source": [
    "The majority of drivers (18) had zero world championships. \n",
    "Actually, only four drivers had won a WC at all. Those were **Verstappen**, **Hamilton**, **Alonso**, and **Vettel**.\n",
    "\n",
    "Attracting a WC driver for your team will have significant impacts. From team success, to sponsorship deals."
   ]
  },
  {
   "cell_type": "markdown",
   "id": "493ad065",
   "metadata": {},
   "source": [
    "Q7: What was the distribution of points with and without podium?"
   ]
  },
  {
   "cell_type": "code",
   "execution_count": 186,
   "id": "6c37d64a",
   "metadata": {},
   "outputs": [
    {
     "name": "stdout",
     "output_type": "stream",
     "text": [
      "Average Points with Podium: 1220.09\n",
      "Average Points without Podium: 99.0\n"
     ]
    }
   ],
   "source": [
    "#Distribution of points with/without podium\n",
    "podium = f1_df[f1_df['Podiums'] > 0]['Points']\n",
    "no_podium = f1_df[f1_df['Podiums'] == 0]['Points']\n",
    "\n",
    "print(f'Average Points with Podium: {podium.mean().round(2)}')\n",
    "print(f'Average Points without Podium: {no_podium.mean().round(2)}')"
   ]
  },
  {
   "cell_type": "markdown",
   "id": "44a1b48b",
   "metadata": {},
   "source": [
    "Q8: What is the correlation between entered GPs and the highest grid position?"
   ]
  },
  {
   "cell_type": "code",
   "execution_count": 211,
   "id": "ed263169",
   "metadata": {},
   "outputs": [
    {
     "data": {
      "image/png": "[encoded data removed]",
      "text/plain": [
       "<Figure size 640x480 with 1 Axes>"
      ]
     },
     "metadata": {},
     "output_type": "display_data"
    }
   ],
   "source": [
    "#Correlation between completed GPs and highest race finish\n",
    "#Extracting finish position\n",
    "finish_position = f1_df['Highest Race Finish'].str.split('(').str[0].astype(int)\n",
    "\n",
    "sns.scatterplot(y='Grands Prix Entered', x='Highest Grid Position', data=f1_df)\n",
    "plt.title('GPs Entered vs. Highest Grid Position')\n",
    "plt.grid(True, alpha=0.3)\n",
    "plt.show()"
   ]
  },
  {
   "cell_type": "code",
   "execution_count": 215,
   "id": "1eb4c638-0942-471c-9be1-a198d796be90",
   "metadata": {},
   "outputs": [
    {
     "data": {
      "text/plain": [
       "-0.66"
      ]
     },
     "execution_count": 215,
     "metadata": {},
     "output_type": "execute_result"
    }
   ],
   "source": [
    "correlation = f1_df['Grands Prix Entered'].corr(f1_df['Highest Grid Position'])\n",
    "correlation.round(2)"
   ]
  },
  {
   "cell_type": "markdown",
   "id": "07095429-aaf0-4d0e-872b-c5cc51d9bb60",
   "metadata": {},
   "source": [
    "We see a negative relation between both variables. The more GPs a driver has entered (More experience!), the higher the grid position. "
   ]
  },
  {
   "cell_type": "markdown",
   "id": "1b4fe422",
   "metadata": {},
   "source": [
    "Q9: On average, how many points did the top 3 driver accumulate?"
   ]
  },
  {
   "cell_type": "code",
   "execution_count": 52,
   "id": "2ac885b7-88e0-4ecb-88be-20277851964b",
   "metadata": {},
   "outputs": [
    {
     "name": "stdout",
     "output_type": "stream",
     "text": [
      "Average Points Score for Drivers from the Top 3 Teams in 2022: 904.69\n"
     ]
    }
   ],
   "source": [
    "top3_teams = f1_df['Team'].value_counts().nlargest(3).index\n",
    "avg_points_top3_teams = f1_df[f1_df['Team'].isin(top3_teams)]['Points'].mean()\n",
    "print(f'Average Points Score for Drivers from the Top 3 Teams in 2022: {avg_points_top3_teams:.2f}')"
   ]
  },
  {
   "cell_type": "markdown",
   "id": "27128011",
   "metadata": {},
   "source": [
    "Q10: Where do drivers come from?"
   ]
  },
  {
   "cell_type": "code",
   "execution_count": 255,
   "id": "4390cee5",
   "metadata": {},
   "outputs": [
    {
     "data": {
      "text/html": [
       "<div>\n",
       "<style scoped>\n",
       "    .dataframe tbody tr th:only-of-type {\n",
       "        vertical-align: middle;\n",
       "    }\n",
       "\n",
       "    .dataframe tbody tr th {\n",
       "        vertical-align: top;\n",
       "    }\n",
       "\n",
       "    .dataframe thead th {\n",
       "        text-align: right;\n",
       "    }\n",
       "</style>\n",
       "<table border=\"1\" class=\"dataframe\">\n",
       "  <thead>\n",
       "    <tr style=\"text-align: right;\">\n",
       "      <th></th>\n",
       "      <th></th>\n",
       "      <th>0</th>\n",
       "    </tr>\n",
       "    <tr>\n",
       "      <th>birth_region</th>\n",
       "      <th>birth_city</th>\n",
       "      <th></th>\n",
       "    </tr>\n",
       "  </thead>\n",
       "  <tbody>\n",
       "    <tr>\n",
       "      <th>Canada</th>\n",
       "      <th>Montreal</th>\n",
       "      <td>2</td>\n",
       "    </tr>\n",
       "    <tr>\n",
       "      <th>Australia</th>\n",
       "      <th>Perth</th>\n",
       "      <td>1</td>\n",
       "    </tr>\n",
       "    <tr>\n",
       "      <th>Germany</th>\n",
       "      <th>Heppenheim</th>\n",
       "      <td>1</td>\n",
       "    </tr>\n",
       "    <tr>\n",
       "      <th>Switzerland</th>\n",
       "      <th>Vufflens-le-Chateau</th>\n",
       "      <td>1</td>\n",
       "    </tr>\n",
       "    <tr>\n",
       "      <th rowspan=\"2\" valign=\"top\">Spain</th>\n",
       "      <th>Oviedo</th>\n",
       "      <td>1</td>\n",
       "    </tr>\n",
       "    <tr>\n",
       "      <th>Madrid</th>\n",
       "      <td>1</td>\n",
       "    </tr>\n",
       "    <tr>\n",
       "      <th>Normandy</th>\n",
       "      <th>Evreux</th>\n",
       "      <td>1</td>\n",
       "    </tr>\n",
       "    <tr>\n",
       "      <th>Netherlands</th>\n",
       "      <th>Uitwellingerga</th>\n",
       "      <td>1</td>\n",
       "    </tr>\n",
       "    <tr>\n",
       "      <th>Monaco</th>\n",
       "      <th>Monte Carlo</th>\n",
       "      <td>1</td>\n",
       "    </tr>\n",
       "    <tr>\n",
       "      <th>Mexico</th>\n",
       "      <th>Guadalajara</th>\n",
       "      <td>1</td>\n",
       "    </tr>\n",
       "    <tr>\n",
       "      <th>Japan</th>\n",
       "      <th>Sagamihara</th>\n",
       "      <td>1</td>\n",
       "    </tr>\n",
       "    <tr>\n",
       "      <th>Germany</th>\n",
       "      <th>Emmerich am Rhein</th>\n",
       "      <td>1</td>\n",
       "    </tr>\n",
       "    <tr>\n",
       "      <th>France</th>\n",
       "      <th>Rouen</th>\n",
       "      <td>1</td>\n",
       "    </tr>\n",
       "    <tr>\n",
       "      <th>Finland</th>\n",
       "      <th>Nastola</th>\n",
       "      <td>1</td>\n",
       "    </tr>\n",
       "    <tr>\n",
       "      <th rowspan=\"4\" valign=\"top\">England</th>\n",
       "      <th>Stevenage</th>\n",
       "      <td>1</td>\n",
       "    </tr>\n",
       "    <tr>\n",
       "      <th>London</th>\n",
       "      <td>1</td>\n",
       "    </tr>\n",
       "    <tr>\n",
       "      <th>King's Lynn</th>\n",
       "      <td>1</td>\n",
       "    </tr>\n",
       "    <tr>\n",
       "      <th>Bristol</th>\n",
       "      <td>1</td>\n",
       "    </tr>\n",
       "    <tr>\n",
       "      <th>Denmark</th>\n",
       "      <th>Roskilde</th>\n",
       "      <td>1</td>\n",
       "    </tr>\n",
       "    <tr>\n",
       "      <th>China</th>\n",
       "      <th>Shanghai</th>\n",
       "      <td>1</td>\n",
       "    </tr>\n",
       "    <tr>\n",
       "      <th>Belgium</th>\n",
       "      <th>Hasselt</th>\n",
       "      <td>1</td>\n",
       "    </tr>\n",
       "  </tbody>\n",
       "</table>\n",
       "</div>"
      ],
      "text/plain": [
       "                                  0\n",
       "birth_region birth_city            \n",
       " Canada      Montreal             2\n",
       " Australia   Perth                1\n",
       " Germany     Heppenheim           1\n",
       " Switzerland Vufflens-le-Chateau  1\n",
       " Spain       Oviedo               1\n",
       "             Madrid               1\n",
       " Normandy    Evreux               1\n",
       " Netherlands Uitwellingerga       1\n",
       " Monaco      Monte Carlo          1\n",
       " Mexico      Guadalajara          1\n",
       " Japan       Sagamihara           1\n",
       " Germany     Emmerich am Rhein    1\n",
       " France      Rouen                1\n",
       " Finland     Nastola              1\n",
       " England     Stevenage            1\n",
       "             London               1\n",
       "             King's Lynn          1\n",
       "             Bristol              1\n",
       " Denmark     Roskilde             1\n",
       " China       Shanghai             1\n",
       "Belgium      Hasselt              1"
      ]
     },
     "execution_count": 255,
     "metadata": {},
     "output_type": "execute_result"
    }
   ],
   "source": [
    "#Distribution of birth cities \n",
    "#Extracting cities and regions\n",
    "f1_df[['birth_city','birth_region']] = f1_df['Place of Birth'].str.strip().str.split(',', expand=True)\n",
    "f1_df.groupby(['birth_region', 'birth_city']).size().sort_values(ascending=False).to_frame()"
   ]
  },
  {
   "cell_type": "markdown",
   "id": "3b82d64e-a5dd-4cf9-b2d5-ee83f877c586",
   "metadata": {},
   "source": [
    "Putting together a diverse team from different cultural backgrounds can increase a team's performance as well as international sponsorship opportunities. "
   ]
  },
  {
   "cell_type": "markdown",
   "id": "680f977b",
   "metadata": {},
   "source": [
    "Q11: What's the average podium placement by grid position?"
   ]
  },
  {
   "cell_type": "code",
   "execution_count": 261,
   "id": "c916c008",
   "metadata": {},
   "outputs": [
    {
     "data": {
      "text/html": [
       "<div>\n",
       "<style scoped>\n",
       "    .dataframe tbody tr th:only-of-type {\n",
       "        vertical-align: middle;\n",
       "    }\n",
       "\n",
       "    .dataframe tbody tr th {\n",
       "        vertical-align: top;\n",
       "    }\n",
       "\n",
       "    .dataframe thead th {\n",
       "        text-align: right;\n",
       "    }\n",
       "</style>\n",
       "<table border=\"1\" class=\"dataframe\">\n",
       "  <thead>\n",
       "    <tr style=\"text-align: right;\">\n",
       "      <th></th>\n",
       "      <th>Podiums</th>\n",
       "    </tr>\n",
       "    <tr>\n",
       "      <th>Highest Grid Position</th>\n",
       "      <th></th>\n",
       "    </tr>\n",
       "  </thead>\n",
       "  <tbody>\n",
       "    <tr>\n",
       "      <th>1</th>\n",
       "      <td>51.54</td>\n",
       "    </tr>\n",
       "    <tr>\n",
       "      <th>2</th>\n",
       "      <td>3.00</td>\n",
       "    </tr>\n",
       "    <tr>\n",
       "      <th>3</th>\n",
       "      <td>2.00</td>\n",
       "    </tr>\n",
       "    <tr>\n",
       "      <th>4</th>\n",
       "      <td>1.50</td>\n",
       "    </tr>\n",
       "    <tr>\n",
       "      <th>6</th>\n",
       "      <td>0.00</td>\n",
       "    </tr>\n",
       "    <tr>\n",
       "      <th>7</th>\n",
       "      <td>0.00</td>\n",
       "    </tr>\n",
       "    <tr>\n",
       "      <th>8</th>\n",
       "      <td>0.00</td>\n",
       "    </tr>\n",
       "    <tr>\n",
       "      <th>9</th>\n",
       "      <td>0.00</td>\n",
       "    </tr>\n",
       "    <tr>\n",
       "      <th>10</th>\n",
       "      <td>0.00</td>\n",
       "    </tr>\n",
       "  </tbody>\n",
       "</table>\n",
       "</div>"
      ],
      "text/plain": [
       "                       Podiums\n",
       "Highest Grid Position         \n",
       "1                        51.54\n",
       "2                         3.00\n",
       "3                         2.00\n",
       "4                         1.50\n",
       "6                         0.00\n",
       "7                         0.00\n",
       "8                         0.00\n",
       "9                         0.00\n",
       "10                        0.00"
      ]
     },
     "execution_count": 261,
     "metadata": {},
     "output_type": "execute_result"
    }
   ],
   "source": [
    "#Average podium placement for driver with different grid position\n",
    "podium_average = f1_df.groupby('Highest Grid Position')['Podiums'].mean().round(2).to_frame()\n",
    "podium_average"
   ]
  },
  {
   "cell_type": "markdown",
   "id": "2e3fce1c-6c50-42e3-be00-cbf8ebca4636",
   "metadata": {},
   "source": [
    "As expected, there is a clear relation between the grid position and the average podium placement. \n",
    "If a driver has a strong initial placement, the higher the likelihood of a strong podium finish.\n",
    "\n",
    "Interestingly - at least for someone not too familiar with Formula 1 - not a single driver who started at position 6 or lower, has secured a podium finish. "
   ]
  },
  {
   "cell_type": "markdown",
   "id": "18642be1",
   "metadata": {},
   "source": [
    "Q12: Which teams did WC drivers drive for?"
   ]
  },
  {
   "cell_type": "code",
   "execution_count": 272,
   "id": "c9662b3b",
   "metadata": {},
   "outputs": [
    {
     "data": {
      "text/html": [
       "<div>\n",
       "<style scoped>\n",
       "    .dataframe tbody tr th:only-of-type {\n",
       "        vertical-align: middle;\n",
       "    }\n",
       "\n",
       "    .dataframe tbody tr th {\n",
       "        vertical-align: top;\n",
       "    }\n",
       "\n",
       "    .dataframe thead th {\n",
       "        text-align: right;\n",
       "    }\n",
       "</style>\n",
       "<table border=\"1\" class=\"dataframe\">\n",
       "  <thead>\n",
       "    <tr style=\"text-align: right;\">\n",
       "      <th></th>\n",
       "      <th>count</th>\n",
       "    </tr>\n",
       "    <tr>\n",
       "      <th>Team</th>\n",
       "      <th></th>\n",
       "    </tr>\n",
       "  </thead>\n",
       "  <tbody>\n",
       "    <tr>\n",
       "      <th>Red Bull Racing</th>\n",
       "      <td>1</td>\n",
       "    </tr>\n",
       "    <tr>\n",
       "      <th>Mercedes</th>\n",
       "      <td>1</td>\n",
       "    </tr>\n",
       "    <tr>\n",
       "      <th>Alpine</th>\n",
       "      <td>1</td>\n",
       "    </tr>\n",
       "    <tr>\n",
       "      <th>Aston Martin</th>\n",
       "      <td>1</td>\n",
       "    </tr>\n",
       "  </tbody>\n",
       "</table>\n",
       "</div>"
      ],
      "text/plain": [
       "                 count\n",
       "Team                  \n",
       "Red Bull Racing      1\n",
       "Mercedes             1\n",
       "Alpine               1\n",
       "Aston Martin         1"
      ]
     },
     "execution_count": 272,
     "metadata": {},
     "output_type": "execute_result"
    }
   ],
   "source": [
    "#Championship winning drivers\n",
    "winning_drivers = f1_df[f1_df['World Championships'] > 0]\n",
    "championship_per_team = winning_drivers['Team'].value_counts().to_frame()\n",
    "championship_per_team"
   ]
  },
  {
   "cell_type": "markdown",
   "id": "94438dc4",
   "metadata": {},
   "source": [
    "Q13: What is the correlation between the average age of a driver and the GPs entered?"
   ]
  },
  {
   "cell_type": "code",
   "execution_count": 284,
   "id": "4bfe5982",
   "metadata": {},
   "outputs": [
    {
     "data": {
      "image/png": "[encoded data removed]",
      "text/plain": [
       "<Figure size 640x480 with 1 Axes>"
      ]
     },
     "metadata": {},
     "output_type": "display_data"
    }
   ],
   "source": [
    "#Correlation between average driver age and entered GPs\n",
    "f1_df['Age_2022'] = 2022 - f1_df['Birth Year']\n",
    "sns.scatterplot(x='Age_2022', y='Grands Prix Entered',data=f1_df)\n",
    "plt.title('Age vs. GPs Entered')\n",
    "plt.grid(True, alpha=0.3)\n",
    "plt.show()"
   ]
  },
  {
   "cell_type": "code",
   "execution_count": 289,
   "id": "63b1c91a-1421-4d1e-8f3f-de00cb61f48c",
   "metadata": {},
   "outputs": [
    {
     "data": {
      "text/plain": [
       "0.89"
      ]
     },
     "execution_count": 289,
     "metadata": {},
     "output_type": "execute_result"
    }
   ],
   "source": [
    "correlation = f1_df['Age_2022'].corr(f1_df['Grands Prix Entered'])\n",
    "correlation.round(2)"
   ]
  },
  {
   "cell_type": "markdown",
   "id": "1e1fb909-be80-467a-bd99-ec08278767a2",
   "metadata": {},
   "source": [
    "As expected, we see a clear positive relation between both variables.\n",
    "The higher the age, the more GPs a driver has tentatively entered. \n",
    "\n",
    "Equiping your team with experienced drivers will most likely have a significant benefit, as experience can make the difference between winning and losing - as in any sports."
   ]
  },
  {
   "cell_type": "markdown",
   "id": "8c9c8544",
   "metadata": {},
   "source": [
    "Q14: What is the average point accumulation for drivers with and without World Championships?"
   ]
  },
  {
   "cell_type": "code",
   "execution_count": 299,
   "id": "d42a8d84",
   "metadata": {},
   "outputs": [
    {
     "data": {
      "text/html": [
       "<div>\n",
       "<style scoped>\n",
       "    .dataframe tbody tr th:only-of-type {\n",
       "        vertical-align: middle;\n",
       "    }\n",
       "\n",
       "    .dataframe tbody tr th {\n",
       "        vertical-align: top;\n",
       "    }\n",
       "\n",
       "    .dataframe thead th {\n",
       "        text-align: right;\n",
       "    }\n",
       "</style>\n",
       "<table border=\"1\" class=\"dataframe\">\n",
       "  <thead>\n",
       "    <tr style=\"text-align: right;\">\n",
       "      <th></th>\n",
       "      <th>Avg. Points</th>\n",
       "    </tr>\n",
       "    <tr>\n",
       "      <th>World Championships</th>\n",
       "      <th></th>\n",
       "    </tr>\n",
       "  </thead>\n",
       "  <tbody>\n",
       "    <tr>\n",
       "      <th>0</th>\n",
       "      <td>474.42</td>\n",
       "    </tr>\n",
       "    <tr>\n",
       "      <th>2</th>\n",
       "      <td>2036.25</td>\n",
       "    </tr>\n",
       "    <tr>\n",
       "      <th>4</th>\n",
       "      <td>3098.00</td>\n",
       "    </tr>\n",
       "    <tr>\n",
       "      <th>7</th>\n",
       "      <td>4405.50</td>\n",
       "    </tr>\n",
       "  </tbody>\n",
       "</table>\n",
       "</div>"
      ],
      "text/plain": [
       "                     Avg. Points\n",
       "World Championships             \n",
       "0                         474.42\n",
       "2                        2036.25\n",
       "4                        3098.00\n",
       "7                        4405.50"
      ]
     },
     "execution_count": 299,
     "metadata": {},
     "output_type": "execute_result"
    }
   ],
   "source": [
    "#Average points for championship and non-championsip drivers\n",
    "f1_df.groupby(by='World Championships').Points.agg('mean').round(2).to_frame().rename(columns={'Points':'Avg. Points'})"
   ]
  },
  {
   "cell_type": "code",
   "execution_count": 309,
   "id": "f9240849-fbc1-41b2-a67f-1265b1e18625",
   "metadata": {},
   "outputs": [
    {
     "name": "stdout",
     "output_type": "stream",
     "text": [
      "Average Points with Championship: 2894.0 Points\n",
      "Average Points without Championship: 474.42 Points\n"
     ]
    }
   ],
   "source": [
    "with_cs = f1_df[f1_df['World Championships'] > 0]['Points']\n",
    "no_cs = f1_df[f1_df['World Championships'] == 0]['Points']\n",
    "print(f'Average Points with Championship: {with_cs.mean()} Points')\n",
    "print(f'Average Points without Championship: {no_cs.mean().round(2)} Points')"
   ]
  }
 ],
 "metadata": {
  "kernelspec": {
   "display_name": "Python [conda env:base] *",
   "language": "python",
   "name": "conda-base-py"
  },
  "language_info": {
   "codemirror_mode": {
    "name": "ipython",
    "version": 3
   },
   "file_extension": ".py",
   "mimetype": "text/x-python",
   "name": "python",
   "nbconvert_exporter": "python",
   "pygments_lexer": "ipython3",
   "version": "3.12.7"
  }
 },
 "nbformat": 4,
 "nbformat_minor": 5
}
